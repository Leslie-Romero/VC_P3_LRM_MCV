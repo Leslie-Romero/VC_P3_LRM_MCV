{
 "cells": [
  {
   "cell_type": "code",
   "execution_count": 2,
   "id": "68262121",
   "metadata": {},
   "outputs": [],
   "source": [
    "import cv2  \n",
    "import numpy as np\n",
    "import matplotlib.pyplot as plt\n",
    "import csv"
   ]
  },
  {
   "cell_type": "markdown",
   "id": "f5343351",
   "metadata": {},
   "source": [
    "### Tarea 1\n",
    "Los ejemplos ilustrativos anteriores permiten saber el número de monedas presentes en la imagen. ¿Cómo saber la cantidad de dinero presente en ella? Sugerimos identificar de forma interactiva (por ejemplo haciendo clic en la imagen) una moneda de un valor determinado en la imagen (por ejemplo de 1€). Tras obtener esa información y las dimensiones en milímetros de las distintas monedas, realiza una propuesta para estimar la cantidad de dinero en la imagen. Muestra la cuenta de monedas y dinero sobre la imagen. No hay restricciones sobre utilizar medidas geométricas o de color.\n",
    "\n",
    "Una vez resuelto el reto con la imagen ideal proporcionada, captura una o varias imágenes con monedas. Aplica el mismo esquema, tras identificar la moneda del valor determinado, calcula el dinero presente en la imagen. ¿Funciona correctamente? ¿Se observan problemas?\n",
    "\n",
    "Nota: Para establecer la correspondencia entre píxeles y milímetros, comentar que la moneda de un euro tiene un diámetro de 23.25 mm. la de 50 céntimos de 24.35, la de 20 céntimos de 22.25, etc.\n",
    "\n",
    "Extras: Considerar que la imagen pueda contener objetos que no son monedas y/o haya solape entre las monedas. Demo en vivo."
   ]
  },
  {
   "cell_type": "code",
   "execution_count": null,
   "id": "57501da7",
   "metadata": {},
   "outputs": [
    {
     "name": "stdout",
     "output_type": "stream",
     "text": [
      "5.137777777777778\n",
      "899 674\n",
      "0.02\n",
      "0.01\n",
      "0.01\n",
      "0.01\n",
      "0.2\n",
      "0.5\n",
      "2.0\n",
      "2.75\n"
     ]
    }
   ],
   "source": [
    "# Leer la imagen de las monedas\n",
    "img = cv2.imread('./content/monedas_8.jpg') \n",
    "\n",
    "# Convierte la imagen a todos de gris, mostrando el resultado\n",
    "img_gris = cv2.cvtColor(img, cv2.COLOR_BGR2GRAY)\n",
    "\n",
    "# Umbralizado binario invertido\n",
    "# umbral = 200\n",
    "blur = cv2.GaussianBlur(img_gris,(5,5),0)\n",
    "ret, img_th1 = cv2.threshold(blur, 0, 255, cv2.THRESH_BINARY_INV + cv2.THRESH_OTSU)\n",
    "\n",
    "# Buscamos los contornos\n",
    "contours, hierarchy = cv2.findContours(img_th1, \n",
    "    cv2.RETR_EXTERNAL , \n",
    "    cv2.CHAIN_APPROX_SIMPLE)\n",
    "\n",
    "# Guardamos las coordenadas del centro y el radio de cada círculo \n",
    "circles = []\n",
    "\n",
    "for cnt in contours:\n",
    "    epsilon = 0.1 * cv2.arcLength(cnt, True)\n",
    "    approx = cv2.approxPolyDP(cnt, epsilon, True)\n",
    "    (x,y), radius = cv2.minEnclosingCircle(approx)\n",
    "    center = (int(x),int(y))\n",
    "    radius = int(radius)\n",
    "    if radius > 5:\n",
    "        circles.append([center, radius])\n",
    "    cv2.circle(img, center, radius, (255, 0, 0), 3)\n",
    "\n",
    "valores = [\n",
    "    [25.75, 2.00],\n",
    "    [23.25, 1.00],\n",
    "    [24.25, 0.50,],\n",
    "    [22.25, 0.20,],\n",
    "    [19.75, 0.10,],\n",
    "    [21.25, 0.05,],\n",
    "    [18.75, 0.02,],\n",
    "    [16.25, 0.01]\n",
    "]\n",
    "\n",
    "\n",
    "# Función para detectar clics en la imagen\n",
    "def click(event, x, y, flags, param):\n",
    "    moneda_2 = None\n",
    "    escala = 0\n",
    "    total_monedas = 0\n",
    "    # Si presionoo el botón izquierdo del ratón\n",
    "    if event == cv2.EVENT_LBUTTONDOWN:\n",
    "        # Recorro los contornos para ver si he hecho clic en alguno\n",
    "        for index, (center, r) in enumerate(circles):\n",
    "            # x, y\n",
    "            cx, cy = center\n",
    "            # Si hago click dentro del radio\n",
    "            left = (x - cx)**2 + (y - cy)**2\n",
    "            right = r**2\n",
    "            if left <= right:\n",
    "                # Determino el valor de la moneda y su tamaño\n",
    "                moneda_2 = index\n",
    "                break\n",
    "    if moneda_2 is not None:\n",
    "        escala = 25.75/(circles[moneda_2][1]*2)\n",
    "        for (center, r) in circles:\n",
    "            tamaño = (r*2)*escala\n",
    "            for [mm, moneda] in valores:\n",
    "                if tamaño <= (mm + 0.5) and tamaño >= (mm - 0.5):\n",
    "                    total_monedas += moneda\n",
    "                    print(moneda)\n",
    "        print(total_monedas)\n",
    "\n",
    "\n",
    "cv2.namedWindow(\"Testing\", cv2.WINDOW_NORMAL)\n",
    "\n",
    "ratio = 1\n",
    "if img.shape[0] > 900:\n",
    "    ratio = img.shape[0] / 900\n",
    "elif img.shape[1] > 1800:\n",
    "    ratio = img.shape[1] / 1800\n",
    "print(ratio)\n",
    "new_h = int(img.shape[0]//ratio)\n",
    "new_w = int(img.shape[1]//ratio)\n",
    "print(new_h, new_w)\n",
    "cv2.resizeWindow(\"Testing\", new_w, new_h)\n",
    "\n",
    "cv2.setMouseCallback(\"Testing\", click)\n",
    "cv2.imshow(\"Testing\", img)\n",
    "cv2.waitKey(0)\n",
    "cv2.destroyAllWindows()"
   ]
  },
  {
   "cell_type": "markdown",
   "id": "701c93de",
   "metadata": {},
   "source": [
    "Tarea 2.\n",
    "\n",
    "NOTA: Podemos usar técnicas de segmentación más potentes para distinguir los objetos del fondo. \n",
    "RECORDAR: No se espera una clasificación ni separación del 100%, si se consigue, pues genial, pero no es requisito."
   ]
  }
 ],
 "metadata": {
  "kernelspec": {
   "display_name": "VC_P1",
   "language": "python",
   "name": "python3"
  },
  "language_info": {
   "codemirror_mode": {
    "name": "ipython",
    "version": 3
   },
   "file_extension": ".py",
   "mimetype": "text/x-python",
   "name": "python",
   "nbconvert_exporter": "python",
   "pygments_lexer": "ipython3",
   "version": "3.11.5"
  }
 },
 "nbformat": 4,
 "nbformat_minor": 5
}
